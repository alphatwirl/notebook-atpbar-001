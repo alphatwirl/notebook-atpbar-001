{
 "cells": [
  {
   "cell_type": "markdown",
   "metadata": {},
   "source": [
    "# [atpbar](https://github.com/alphatwirl/atpbar)\n",
    "\n",
    "Progress bars for threading and multiprocessing tasks on terminal and Jupyter Notebook\n",
    "\n",
    "Tai Sakuma\n",
    "\n",
    "The code in _atpbar_ started its development in 2015 as part of\n",
    "[alphatwirl](https://github.com/alphatwirl/alphatwirl). It has been a\n",
    "sub-package, _progressbar_, of alphatwirl. It became an independent\n",
    "package in February 2019. _atpbar_ can display multiple progress bars\n",
    "simultaneously growing to show the progresses of iterations of loops\n",
    "in [threading](https://docs.python.org/3/library/threading.html) or\n",
    "[multiprocessing](https://docs.python.org/3/library/multiprocessing.html)\n",
    "tasks. _atpbar_ can display progress bars on terminal and [Jupyter\n",
    "Notebook](https://jupyter.org/).\n",
    "\n",
    "*****\n",
    "\n",
    "## How to use\n",
    "\n",
    "I will show here how to use atpbar by simple examples.\n",
    "\n",
    "### Import libraries\n",
    "\n",
    "To create simple loops in the examples, we use two python standard\n",
    "libraries, [time](https://docs.python.org/3/library/time.html) and\n",
    "[random](https://docs.python.org/3/library/random.html). Import the\n",
    "two packages as well as `atpbar`.\n"
   ]
  },
  {
   "cell_type": "code",
   "execution_count": null,
   "metadata": {},
   "outputs": [],
   "source": [
    "import time, random\n",
    "from atpbar import atpbar"
   ]
  },
  {
   "cell_type": "markdown",
   "metadata": {},
   "source": [
    "**Note**: import the object `atpbar` from the package `atpbar` rather\n",
    "than importing the package `atpbar` itself.\n",
    "\n",
    "### One loop\n",
    "\n",
    "The object `atpbar` is an iterable that can wrap another iterable and\n",
    "shows the progress bars for the iterations. (The idea of making the\n",
    "interface iterable was inspired by\n",
    "[tqdm](https://github.com/tqdm/tqdm).)\n",
    "\n",
    "The task in the code below is to sleep for `0.0001` seconds in each\n",
    "iteration of the loop. The number of the iterations of the loop is\n",
    "randomly selected from between `5` and `10000`.\n",
    "\n",
    "A progress bar will be shown by `atpbar`."
   ]
  },
  {
   "cell_type": "code",
   "execution_count": null,
   "metadata": {},
   "outputs": [],
   "source": [
    "n = random.randint(5, 10000)\n",
    "for i in atpbar(range(n)):\n",
    "    time.sleep(0.0001)"
   ]
  },
  {
   "cell_type": "markdown",
   "metadata": {},
   "source": [
    "In order for `atpbar` to show a progress bar, the wrapped iterable\n",
    "needs to have a length. If the length cannot be obtained by `len()`,\n",
    "`atpbar` won't show a progress bar.\n",
    "\n",
    "### Nested loops\n",
    "\n",
    "`atpbar` can show progress bars for nested loops as in the example below.\n",
    "\n",
    "The outer loop iterates 4 times. The inner loop is similar to the loop\n",
    "in the previous example—sleeps for `0.0001` seconds. You can\n",
    "optionally give the keyword argument `name` to specify the label on\n",
    "the progress bar."
   ]
  },
  {
   "cell_type": "code",
   "execution_count": null,
   "metadata": {},
   "outputs": [],
   "source": [
    "for i in atpbar(range(4), name='outer'):\n",
    "    n = random.randint(5, 10000)\n",
    "    for j in atpbar(range(n), name='inner {}'.format(i)):\n",
    "        time.sleep(0.0001)"
   ]
  },
  {
   "cell_type": "markdown",
   "metadata": {},
   "source": [
    "The progress bars for the completed tasks move up. The progress\n",
    "bars for the active tasks grow at the bottom.\n",
    "\n",
    "### Threading\n",
    "\n",
    "`atpbar` can show multiple progress bars for loops concurrently\n",
    "iterating in different threads.\n",
    "\n",
    "The task to sleep for `0.0001` seconds is defined as the function\n",
    "`task`. The `task` is concurrently run 5 times with `threading`.\n",
    "`atpbar` can be used in any threads. Five progress bars will simultaneously grow. As a task completes, the progress bar for the task moves up. The progress bars for active tasks are at the bottom."
   ]
  },
  {
   "cell_type": "code",
   "execution_count": null,
   "metadata": {},
   "outputs": [],
   "source": [
    "import threading\n",
    "\n",
    "def task(n, name):\n",
    "    for i in atpbar(range(n), name=name):\n",
    "        time.sleep(0.0001)\n",
    "\n",
    "nthreads = 5\n",
    "threads = [ ]\n",
    "\n",
    "for i in range(nthreads):\n",
    "    name = 'thread {}'.format(i)\n",
    "    n = random.randint(5, 100000)\n",
    "    t = threading.Thread(target=task, args=(n, name))\n",
    "    t.start()\n",
    "    threads.append(t)\n",
    "\n",
    "for t in threads:\n",
    "    t.join()"
   ]
  },
  {
   "cell_type": "markdown",
   "metadata": {},
   "source": [
    "### Multiprocessing\n",
    "\n",
    "`atpbar` can be used with `multiprocessing`. A few extra lines of code\n",
    "need to be added.\n",
    "\n",
    "In order to use `atpbar` in a subprocess, the `reporter`, which can be\n",
    "found in the main process by the function `find_reporter()`, needs to\n",
    "be brought to the subprocess and registered there by the function\n",
    "`register_reporter()`.\n",
    "\n",
    "Simultaneously growing progress bars will be shown."
   ]
  },
  {
   "cell_type": "code",
   "execution_count": null,
   "metadata": {},
   "outputs": [],
   "source": [
    "import multiprocessing\n",
    "from atpbar import register_reporter, find_reporter\n",
    "\n",
    "def task(n, name, reporter):\n",
    "    register_reporter(reporter)\n",
    "    for i in atpbar(range(n), name=name):\n",
    "        time.sleep(0.0001)\n",
    "\n",
    "reporter = find_reporter()\n",
    "\n",
    "nprocesses = 5\n",
    "processes = [ ]\n",
    "\n",
    "for i in range(nprocesses):\n",
    "    name = 'process {}'.format(i)\n",
    "    n = random.randint(5, 100000)\n",
    "    p = multiprocessing.Process(target=task, args=(n, name, reporter))\n",
    "    p.start()\n",
    "    processes.append(p)\n",
    "\n",
    "for p in processes:\n",
    "    p.join()"
   ]
  },
  {
   "cell_type": "markdown",
   "metadata": {},
   "source": [
    "*****\n",
    "\n",
    "## License\n",
    "\n",
    "atpbar is licensed under the BSD license.\n",
    "\n",
    "*****\n",
    "\n",
    "## Contact\n",
    "\n",
    "- Tai Sakuma - tai.sakuma@gmail.com\n"
   ]
  },
  {
   "cell_type": "code",
   "execution_count": null,
   "metadata": {},
   "outputs": [],
   "source": []
  }
 ],
 "metadata": {
  "kernelspec": {
   "display_name": "Python 3",
   "language": "python",
   "name": "python3"
  },
  "language_info": {
   "codemirror_mode": {
    "name": "ipython",
    "version": 3
   },
   "file_extension": ".py",
   "mimetype": "text/x-python",
   "name": "python",
   "nbconvert_exporter": "python",
   "pygments_lexer": "ipython3",
   "version": "3.6.7"
  }
 },
 "nbformat": 4,
 "nbformat_minor": 2
}
