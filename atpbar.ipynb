{
 "cells": [
  {
   "cell_type": "markdown",
   "metadata": {},
   "source": [
    "# [atpbar](https://github.com/alphatwirl/atpbar)\n",
    "\n",
    "Progress bars for threading and multiprocessing tasks on terminal and Jupyter Notebook\n",
    "\n",
    "Tai Sakuma\n",
    "\n",
    "_atpbar_ can display multiple progress bars simultaneously growing to show the\n",
    "progress of each iteration of loops in\n",
    "[threading](https://docs.python.org/3/library/threading.html) or\n",
    "[multiprocessing](https://docs.python.org/3/library/multiprocessing.html)\n",
    "tasks. _atpbar_ can display progress bars on the terminal and [Jupyter\n",
    "Notebook](https://jupyter.org/).\n",
    "\n",
    "_atpbar_ started its development in 2015 and was the sub-package\n",
    "[_progressbar_](https://github.com/alphatwirl/alphatwirl/tree/v0.22.0/alphatwirl/progressbar)\n",
    "of alphatwirl. It became an independent package in 2019.\n",
    "\n",
    "\n",
    "---\n",
    "\n",
    "- **GitHub:** https://github.com/alphatwirl/atpbar\n",
    "- **PyPI:** https://pypi.org/project/atpbar/\n",
    "\n",
    "*****\n",
    "\n",
    "- [**Quick start**](#Quick-start)\n",
    "    - [Import libraries](#Import-libraries)\n",
    "    - [One loop](#One-loop)\n",
    "    - [Nested loops](#Nested-loops)\n",
    "    - [Threading](#Threading)\n",
    "    - [Multiprocessing](#Multiprocessing)\n",
    "- [**Advanced features**](#Advanced-features)\n",
    "    - [A `break` and an exception](#A-break-and-an-exception)\n",
    "    - [Progress of starting threads and processes with progress bars](#Progress-of-starting-threads-and-processes-with-progress-bars)\n",
    "\n",
    "---\n",
    "\n",
    "\n",
    "## Quick start\n",
    "\n",
    "### Import libraries\n",
    "\n",
    "To create simple loops in the examples, we use two Python standard\n",
    "libraries, [time](https://docs.python.org/3/library/time.html) and\n",
    "[random](https://docs.python.org/3/library/random.html). Import the\n",
    "two packages as well as `atpbar`.\n"
   ]
  },
  {
   "cell_type": "code",
   "execution_count": 1,
   "metadata": {},
   "outputs": [],
   "source": [
    "import time, random\n",
    "from atpbar import atpbar"
   ]
  },
  {
   "cell_type": "markdown",
   "metadata": {},
   "source": [
    "### One loop\n",
    "\n",
    "The object `atpbar` is an iterable that can wrap another iterable and\n",
    "shows the progress bars for the iterations. (The idea of making the\n",
    "interface iterable was inspired by\n",
    "[tqdm](https://github.com/tqdm/tqdm).)\n",
    "\n",
    "The task in the code below is to sleep for `0.0001` seconds in each\n",
    "iteration of the loop. The number of the iterations of the loop is\n",
    "randomly selected from between `500` and `10000`.\n",
    "\n",
    "A progress bar will be shown by `atpbar`."
   ]
  },
  {
   "cell_type": "code",
   "execution_count": 2,
   "metadata": {},
   "outputs": [
    {
     "data": {
      "application/vnd.jupyter.widget-view+json": {
       "model_id": "073007260a8e42019e91752118284a22",
       "version_major": 2,
       "version_minor": 0
      },
      "text/plain": [
       "VBox()"
      ]
     },
     "metadata": {},
     "output_type": "display_data"
    }
   ],
   "source": [
    "n = random.randint(500, 10000)\n",
    "for i in atpbar(range(n)):\n",
    "    time.sleep(0.0001)"
   ]
  },
  {
   "cell_type": "markdown",
   "metadata": {},
   "source": [
    "In order for `atpbar` to show a progress bar, the wrapped iterable\n",
    "needs to have a length. If the length cannot be obtained by `len()`,\n",
    "`atpbar` won't show a progress bar.\n",
    "\n",
    "### Nested loops\n",
    "\n",
    "`atpbar` can show progress bars for nested loops as in the example below.\n",
    "\n",
    "The outer loop iterates 4 times. The inner loop is similar to the loop\n",
    "in the previous example—sleeps for `0.0001` seconds. You can\n",
    "optionally give the keyword argument `name` to specify the label on\n",
    "the progress bar."
   ]
  },
  {
   "cell_type": "code",
   "execution_count": 3,
   "metadata": {},
   "outputs": [
    {
     "data": {
      "application/vnd.jupyter.widget-view+json": {
       "model_id": "c566ab9397f9487f99e84a50e3593164",
       "version_major": 2,
       "version_minor": 0
      },
      "text/plain": [
       "VBox()"
      ]
     },
     "metadata": {},
     "output_type": "display_data"
    }
   ],
   "source": [
    "for i in atpbar(range(4), name='Outer'):\n",
    "    n = random.randint(500, 10000)\n",
    "    for j in atpbar(range(n), name='Inner {}'.format(i)):\n",
    "        time.sleep(0.0001)"
   ]
  },
  {
   "cell_type": "markdown",
   "metadata": {},
   "source": [
    "The progress bars for the completed tasks move up. The progress\n",
    "bars for the active tasks grow at the bottom.\n",
    "\n",
    "### Threading\n",
    "\n",
    "`atpbar` can show multiple progress bars for loops concurrently\n",
    "iterating in different threads.\n",
    "\n",
    "The function `run_with_threading()` in the following code shows an\n",
    "example.\n",
    "\n",
    "The task to sleep for `0.0001` seconds is defined as the function `task`. The\n",
    "`task` is concurrently run five times with `threading`. `atpbar` can be used in\n",
    "any thread. Five progress bars growing simultaneously will be shown. The\n",
    "function `flush()` returns when the progress bars have finished updating."
   ]
  },
  {
   "cell_type": "code",
   "execution_count": 5,
   "metadata": {},
   "outputs": [
    {
     "data": {
      "application/vnd.jupyter.widget-view+json": {
       "model_id": "26a67e6a121940cfb4f3fda5032653c2",
       "version_major": 2,
       "version_minor": 0
      },
      "text/plain": [
       "VBox()"
      ]
     },
     "metadata": {},
     "output_type": "display_data"
    }
   ],
   "source": [
    "from atpbar import flush\n",
    "import threading\n",
    "\n",
    "def run_with_threading():\n",
    "    def task(n, name):\n",
    "        for _ in atpbar(range(n), name=name):\n",
    "            time.sleep(0.0001)\n",
    "\n",
    "    n_threads = 5\n",
    "    threads = []\n",
    "\n",
    "    for i in range(n_threads):\n",
    "        name = 'Thread {}'.format(i)\n",
    "        n = random.randint(5, 10000)\n",
    "        t = threading.Thread(target=task, args=(n, name))\n",
    "        t.start()\n",
    "        threads.append(t)\n",
    "\n",
    "    for t in threads:\n",
    "        t.join()\n",
    "\n",
    "    flush()\n",
    "\n",
    "\n",
    "run_with_threading()"
   ]
  },
  {
   "cell_type": "markdown",
   "metadata": {},
   "source": [
    "### Multiprocessing\n",
    "\n",
    "`atpbar` can be used with `multiprocessing`. A few extra lines of code\n",
    "need to be added.\n",
    "\n",
    "The function `run_with_multiprocessing()` in the following code shows\n",
    "an example. It starts four workers in subprocesses with `multiprocessing` and have\n",
    "them run ten tasks. In order to use `atpbar` in a subprocess, the `reporter`, which can be\n",
    "found in the main process by the function `find_reporter()`, needs to\n",
    "be brought to the subprocess and registered there by the function\n",
    "`register_reporter()`.\n",
    "\n",
    "Simultaneously growing progress bars will be shown."
   ]
  },
  {
   "cell_type": "code",
   "execution_count": 6,
   "metadata": {},
   "outputs": [
    {
     "data": {
      "application/vnd.jupyter.widget-view+json": {
       "model_id": "c8591a0f6f324da5af231a33a8d033c7",
       "version_major": 2,
       "version_minor": 0
      },
      "text/plain": [
       "VBox()"
      ]
     },
     "metadata": {},
     "output_type": "display_data"
    }
   ],
   "source": [
    "import multiprocessing\n",
    "multiprocessing.set_start_method('fork', force=True)\n",
    "\n",
    "from atpbar import register_reporter, find_reporter, flush\n",
    "\n",
    "def run_with_multiprocessing():\n",
    "\n",
    "    def task(n, name):\n",
    "        for _ in atpbar(range(n), name=name):\n",
    "            time.sleep(0.0001)\n",
    "\n",
    "    def worker(reporter, task, queue):\n",
    "        register_reporter(reporter)\n",
    "        while True:\n",
    "            args = queue.get()\n",
    "            if args is None:\n",
    "                queue.task_done()\n",
    "                break\n",
    "            task(*args)\n",
    "            queue.task_done()\n",
    "\n",
    "    n_processes = 4\n",
    "    processes = []\n",
    "\n",
    "    reporter = find_reporter()\n",
    "    queue = multiprocessing.JoinableQueue()\n",
    "\n",
    "    for i in range(n_processes):\n",
    "        p = multiprocessing.Process(target=worker, args=(reporter, task, queue))\n",
    "        p.start()\n",
    "        processes.append(p)\n",
    "\n",
    "    n_tasks = 10\n",
    "    for i in range(n_tasks):\n",
    "        name = 'Task {}'.format(i)\n",
    "        n = random.randint(5, 10000)\n",
    "        queue.put((n, name))\n",
    "\n",
    "    for i in range(n_processes):\n",
    "        queue.put(None)\n",
    "        queue.join()\n",
    "\n",
    "    flush()\n",
    "\n",
    "\n",
    "run_with_multiprocessing()"
   ]
  },
  {
   "cell_type": "markdown",
   "metadata": {},
   "source": [
    "*****\n",
    "\n",
    "## Advanced features\n",
    "\n",
    "This section introduces a few advanced features. If you skip the examples above, need to import some modules and objects."
   ]
  },
  {
   "cell_type": "code",
   "execution_count": 7,
   "metadata": {},
   "outputs": [],
   "source": [
    "import time, random\n",
    "import threading\n",
    "from atpbar import atpbar, flush"
   ]
  },
  {
   "cell_type": "markdown",
   "metadata": {},
   "source": [
    "### A `break` and an exception\n",
    "\n",
    "When the loop ends with a `break` or an exception, the progress bar stops with\n",
    "the last complete iteration.\n",
    "\n",
    "For example, the loop in the following code breaks during the 1235th iteration."
   ]
  },
  {
   "cell_type": "code",
   "execution_count": 8,
   "metadata": {},
   "outputs": [
    {
     "data": {
      "application/vnd.jupyter.widget-view+json": {
       "model_id": "9a94a7f9af4740468ac1a869aa0a4420",
       "version_major": 2,
       "version_minor": 0
      },
      "text/plain": [
       "VBox()"
      ]
     },
     "metadata": {},
     "output_type": "display_data"
    }
   ],
   "source": [
    "for i in atpbar(range(2000)):\n",
    "    if i == 1234:\n",
    "        break\n",
    "    time.sleep(0.0001)"
   ]
  },
  {
   "cell_type": "markdown",
   "metadata": {},
   "source": [
    "Since `i` starts with `0`, when `i` is `1234`, the loop is in its 1235th\n",
    "iteration. The last complete iteration is 1234. The progress bar stops at 1234.\n",
    "\n",
    "\n",
    "As an example of an exception, in the following code, an exception is\n",
    "thrown during the 1235th iteration."
   ]
  },
  {
   "cell_type": "code",
   "execution_count": 9,
   "metadata": {},
   "outputs": [
    {
     "data": {
      "application/vnd.jupyter.widget-view+json": {
       "model_id": "5a439d4bb2d745f1a09df32da4780204",
       "version_major": 2,
       "version_minor": 0
      },
      "text/plain": [
       "VBox()"
      ]
     },
     "metadata": {},
     "output_type": "display_data"
    },
    {
     "ename": "Exception",
     "evalue": "",
     "output_type": "error",
     "traceback": [
      "\u001b[0;31m---------------------------------------------------------------------------\u001b[0m",
      "\u001b[0;31mException\u001b[0m                                 Traceback (most recent call last)",
      "Cell \u001b[0;32mIn[9], line 3\u001b[0m\n\u001b[1;32m      1\u001b[0m \u001b[38;5;28;01mfor\u001b[39;00m i \u001b[38;5;129;01min\u001b[39;00m atpbar(\u001b[38;5;28mrange\u001b[39m(\u001b[38;5;241m2000\u001b[39m)):\n\u001b[1;32m      2\u001b[0m     \u001b[38;5;28;01mif\u001b[39;00m i \u001b[38;5;241m==\u001b[39m \u001b[38;5;241m1234\u001b[39m:\n\u001b[0;32m----> 3\u001b[0m         \u001b[38;5;28;01mraise\u001b[39;00m \u001b[38;5;167;01mException\u001b[39;00m\n\u001b[1;32m      4\u001b[0m     time\u001b[38;5;241m.\u001b[39msleep(\u001b[38;5;241m0.0001\u001b[39m)\n",
      "\u001b[0;31mException\u001b[0m: "
     ]
    }
   ],
   "source": [
    "for i in atpbar(range(2000)):\n",
    "    if i == 1234:\n",
    "        raise Exception\n",
    "    time.sleep(0.0001)"
   ]
  },
  {
   "cell_type": "markdown",
   "metadata": {},
   "source": [
    "The progress bar stops at the last complete iteration, 1234.\n",
    "\n",
    "This feature works as well with nested loops, threading, and\n",
    "multiprocessing. For example, in the following code, the loops in five\n",
    "threads break at 1235th iteration."
   ]
  },
  {
   "cell_type": "code",
   "execution_count": 10,
   "metadata": {},
   "outputs": [
    {
     "data": {
      "application/vnd.jupyter.widget-view+json": {
       "model_id": "f5fc186ac7a74936b15b3a2a22e72fce",
       "version_major": 2,
       "version_minor": 0
      },
      "text/plain": [
       "VBox()"
      ]
     },
     "metadata": {},
     "output_type": "display_data"
    }
   ],
   "source": [
    "from atpbar import flush\n",
    "import threading\n",
    "\n",
    "def run_with_threading():\n",
    "    def task(n, name):\n",
    "        for i in atpbar(range(n), name=name):\n",
    "            if i == 1234:\n",
    "                break\n",
    "            time.sleep(0.0001)\n",
    "\n",
    "    n_threads = 5\n",
    "    threads = []\n",
    "\n",
    "    for i in range(n_threads):\n",
    "        name = 'Thread {}'.format(i)\n",
    "        n = random.randint(3000, 10000)\n",
    "        t = threading.Thread(target=task, args=(n, name))\n",
    "        t.start()\n",
    "        threads.append(t)\n",
    "\n",
    "    for t in threads:\n",
    "        t.join()\n",
    "\n",
    "    flush()\n",
    "\n",
    "run_with_threading()"
   ]
  },
  {
   "cell_type": "markdown",
   "metadata": {},
   "source": [
    "### Progress of starting threads and processes with progress bars\n",
    "\n",
    "`atpbar` can be used for a loop that starts sub-threads or\n",
    "sub-processes in which `atpbar` is also used."
   ]
  },
  {
   "cell_type": "code",
   "execution_count": 11,
   "metadata": {},
   "outputs": [
    {
     "data": {
      "application/vnd.jupyter.widget-view+json": {
       "model_id": "78aed0420734438096c91bf6531fbd05",
       "version_major": 2,
       "version_minor": 0
      },
      "text/plain": [
       "VBox()"
      ]
     },
     "metadata": {},
     "output_type": "display_data"
    }
   ],
   "source": [
    "from atpbar import flush\n",
    "import threading\n",
    "\n",
    "def run_with_threading():\n",
    "    def task(n, name):\n",
    "        for i in atpbar(range(n), name=name):\n",
    "            time.sleep(0.0001)\n",
    "\n",
    "    n_threads = 5\n",
    "    threads = []\n",
    "\n",
    "    for i in atpbar(range(n_threads)):\n",
    "        name = 'Thread {}'.format(i)\n",
    "        n = random.randint(200, 1000)\n",
    "        t = threading.Thread(target=task, args=(n, name))\n",
    "        t.start()\n",
    "        threads.append(t)\n",
    "        time.sleep(0.1)\n",
    "\n",
    "    for t in threads:\n",
    "        t.join()\n",
    "\n",
    "    flush()\n",
    "\n",
    "run_with_threading()"
   ]
  },
  {
   "cell_type": "markdown",
   "metadata": {},
   "source": [
    "The `atpbar` sensibly works regardless of the order in which multiple\n",
    "instances of `atpbar` in multiple threads and multiple processes start\n",
    "and end."
   ]
  },
  {
   "cell_type": "code",
   "execution_count": null,
   "metadata": {},
   "outputs": [],
   "source": []
  }
 ],
 "metadata": {
  "kernelspec": {
   "display_name": "Python 3 (ipykernel)",
   "language": "python",
   "name": "python3"
  },
  "language_info": {
   "codemirror_mode": {
    "name": "ipython",
    "version": 3
   },
   "file_extension": ".py",
   "mimetype": "text/x-python",
   "name": "python",
   "nbconvert_exporter": "python",
   "pygments_lexer": "ipython3",
   "version": "3.10.13"
  }
 },
 "nbformat": 4,
 "nbformat_minor": 4
}
